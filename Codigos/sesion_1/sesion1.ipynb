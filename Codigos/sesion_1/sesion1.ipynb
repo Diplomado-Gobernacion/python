{
 "cells": [
  {
   "cell_type": "code",
   "execution_count": 18,
   "id": "f7a26475-723a-492d-8834-047f4c184fe5",
   "metadata": {},
   "outputs": [],
   "source": [
    "import numpy as np"
   ]
  },
  {
   "cell_type": "code",
   "execution_count": 19,
   "id": "68d23aa5-8e9b-47a3-a9fb-5cae79c60cc3",
   "metadata": {},
   "outputs": [
    {
     "data": {
      "text/plain": [
       "array([1, 2, 3])"
      ]
     },
     "execution_count": 19,
     "metadata": {},
     "output_type": "execute_result"
    }
   ],
   "source": [
    "np.array([1,2,3])"
   ]
  },
  {
   "cell_type": "markdown",
   "id": "1003c69d-e969-4997-b4cd-4c1b7d4ad8bc",
   "metadata": {},
   "source": [
    "# Mi primer programa\n",
    "\n",
    "Este es mi primer programa y el comando print imprime en pantalla"
   ]
  },
  {
   "cell_type": "code",
   "execution_count": 9,
   "id": "4e1c6d29-d877-42f5-afa4-e176741b9007",
   "metadata": {},
   "outputs": [],
   "source": [
    "a = 1"
   ]
  },
  {
   "cell_type": "code",
   "execution_count": 10,
   "id": "28eb6b98-104b-49b5-a6e2-23dc4c13bb14",
   "metadata": {},
   "outputs": [],
   "source": [
    "b = 2"
   ]
  },
  {
   "cell_type": "code",
   "execution_count": 13,
   "id": "cd9cad5c-02b7-4723-ac3a-8147a29f5a1f",
   "metadata": {},
   "outputs": [],
   "source": [
    "c = a + b"
   ]
  },
  {
   "cell_type": "code",
   "execution_count": 12,
   "id": "7f2df2d4-1ab5-46fa-9d19-d65f2dc37203",
   "metadata": {},
   "outputs": [
    {
     "name": "stdout",
     "output_type": "stream",
     "text": [
      "3\n"
     ]
    }
   ],
   "source": [
    "print(c)"
   ]
  },
  {
   "cell_type": "code",
   "execution_count": 17,
   "id": "2efdb8a4-bab1-4d5e-8478-9051ae47c62a",
   "metadata": {},
   "outputs": [
    {
     "name": "stdout",
     "output_type": "stream",
     "text": [
      "^C\n"
     ]
    }
   ],
   "source": [
    "!conda install numpy"
   ]
  }
 ],
 "metadata": {
  "kernelspec": {
   "display_name": "Python 3 (ipykernel)",
   "language": "python",
   "name": "python3"
  },
  "language_info": {
   "codemirror_mode": {
    "name": "ipython",
    "version": 3
   },
   "file_extension": ".py",
   "mimetype": "text/x-python",
   "name": "python",
   "nbconvert_exporter": "python",
   "pygments_lexer": "ipython3",
   "version": "3.9.13"
  }
 },
 "nbformat": 4,
 "nbformat_minor": 5
}
